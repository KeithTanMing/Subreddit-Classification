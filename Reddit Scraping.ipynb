{
 "cells": [
  {
   "cell_type": "markdown",
   "metadata": {},
   "source": [
    "__Reddit Scrapping:__\n",
    "<br>\n",
    "<br>My choice of subreddits are r/nosleep and r/randomactsofkindness (abbreviated: 'raok'). Description from the subreddit:\n",
    "- Nosleep is a subreddit for realistic horror stories. Everything is true here, even if it's not.\n",
    "- Randomactsofkindness is a subreddit for non-fictional stories on inspiration and kindness\n",
    "\n",
    "A Praw API Wrapper customized for Reddit was utilized to scrap up to 1,000 posts from each subreddit, saved into a dataframe, and exported to an excel file (format .csv) for storage."
   ]
  },
  {
   "cell_type": "code",
   "execution_count": null,
   "metadata": {},
   "outputs": [],
   "source": [
    "import praw\n",
    "import pandas as pd"
   ]
  },
  {
   "cell_type": "code",
   "execution_count": null,
   "metadata": {},
   "outputs": [],
   "source": [
    "# Initializing of PRAW: The Python Reddit API Wrapper\n",
    "reddit=praw.Reddit(client_id='0kdXeWaWJVoMvw',\n",
    "                  client_secret='waQ8EshbIpGOpyXOBNyEGmmoAQE',\n",
    "                  user_agent='my user agent',\n",
    "                  username='keithtan9388',\n",
    "                  password='TwinWF15')"
   ]
  },
  {
   "cell_type": "code",
   "execution_count": null,
   "metadata": {},
   "outputs": [],
   "source": [
    "# Setting up of dict to scrap the title, author and main body of posts in r/randomactofkindness, and r/nosleep\n",
    "for i in ['nosleep','randomactsofkindness']:\n",
    "    topics_dict = { \"title\":[], \n",
    "                    \"author\": [],\n",
    "                    \"body\":[]}\n",
    "\n",
    "# Scraping from reddit, up to 1,000 posts. Adding of a column with binary classification - 1 if r/nosleep, 0 if r/randomactofkindness\n",
    "    for sub in reddit.subreddit(i).hot(limit=1000):\n",
    "        topics_dict[\"title\"].append(sub.title)\n",
    "        topics_dict[\"author\"].append(sub.author)\n",
    "        topics_dict[\"body\"].append(sub.selftext)\n",
    "        if i == 'nosleep':\n",
    "            topics_dict[\"horror\"] = 1\n",
    "        else:\n",
    "            topics_dict[\"horror\"] = 0\n",
    "\n",
    "# Convert extracted files into a dataframe\n",
    "    if i == 'nosleep':\n",
    "        nosleep_df = pd.DataFrame.from_dict(topics_dict)\n",
    "    else:\n",
    "        raok_df = pd.DataFrame.from_dict(topics_dict)"
   ]
  },
  {
   "cell_type": "code",
   "execution_count": null,
   "metadata": {},
   "outputs": [],
   "source": [
    "# Export dataframe to csv for usage later\n",
    "nosleep_df.to_csv('nosleep.csv', index=False)\n",
    "raok_df.to_csv('raok.csv', index= False)"
   ]
  }
 ],
 "metadata": {
  "kernelspec": {
   "display_name": "Python 3",
   "language": "python",
   "name": "python3"
  },
  "language_info": {
   "codemirror_mode": {
    "name": "ipython",
    "version": 3
   },
   "file_extension": ".py",
   "mimetype": "text/x-python",
   "name": "python",
   "nbconvert_exporter": "python",
   "pygments_lexer": "ipython3",
   "version": "3.7.3"
  }
 },
 "nbformat": 4,
 "nbformat_minor": 2
}
